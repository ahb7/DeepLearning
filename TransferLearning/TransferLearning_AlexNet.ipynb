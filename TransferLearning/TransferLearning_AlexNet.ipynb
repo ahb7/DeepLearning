{
 "cells": [
  {
   "cell_type": "code",
   "execution_count": 186,
   "metadata": {
    "colab": {
     "base_uri": "https://localhost:8080/",
     "height": 54
    },
    "executionInfo": {
     "elapsed": 12,
     "status": "ok",
     "timestamp": 1648286122318,
     "user": {
      "displayName": "Abdullah Habib Biswas",
      "photoUrl": "https://lh3.googleusercontent.com/a/default-user=s64",
      "userId": "05383448059742338245"
     },
     "user_tz": -330
    },
    "id": "AMZfu97Xr8F2",
    "outputId": "24100245-c4c5-44aa-8c5d-62717befbf04"
   },
   "outputs": [
    {
     "data": {
      "application/vnd.google.colaboratory.intrinsic+json": {
       "type": "string"
      },
      "text/plain": [
       "'\\nThis program is an example of Transfer Learning using PyTorch AlexNet\\nIt classifies flower images from the following dataset into five classes\\nhttp://download.tensorflow.org/example_images/flower_photos.tgz\\nExecuted on Google Colab with GPU, with Python 3.7.12 and PyTorch 1.10.0 \\n'"
      ]
     },
     "execution_count": 186,
     "metadata": {},
     "output_type": "execute_result"
    }
   ],
   "source": [
    "\"\"\"\n",
    "This program is an example of Transfer Learning using PyTorch AlexNet\n",
    "It classifies flower images from the following dataset into five classes\n",
    "http://download.tensorflow.org/example_images/flower_photos.tgz\n",
    "Executed on Google Colab with GPU, with Python 3.7.12 and PyTorch 1.10.0 \n",
    "\"\"\""
   ]
  },
  {
   "cell_type": "code",
   "execution_count": 284,
   "metadata": {
    "executionInfo": {
     "elapsed": 480,
     "status": "ok",
     "timestamp": 1648287337444,
     "user": {
      "displayName": "Abdullah Habib Biswas",
      "photoUrl": "https://lh3.googleusercontent.com/a/default-user=s64",
      "userId": "05383448059742338245"
     },
     "user_tz": -330
    },
    "id": "Uno9K4K_sAms"
   },
   "outputs": [],
   "source": [
    "import torch\n",
    "from torchvision import models\n",
    "import torch.nn as nn\n",
    "import torch.optim as optim\n",
    "from torch.utils.data import DataLoader, TensorDataset\n",
    "import numpy as np\n",
    "import matplotlib.pyplot as plt\n",
    "import glob\n",
    "import cv2\n",
    "from sklearn.model_selection import train_test_split\n",
    "import gc"
   ]
  },
  {
   "cell_type": "code",
   "execution_count": 285,
   "metadata": {
    "colab": {
     "base_uri": "https://localhost:8080/"
    },
    "executionInfo": {
     "elapsed": 3666,
     "status": "ok",
     "timestamp": 1648287345428,
     "user": {
      "displayName": "Abdullah Habib Biswas",
      "photoUrl": "https://lh3.googleusercontent.com/a/default-user=s64",
      "userId": "05383448059742338245"
     },
     "user_tz": -330
    },
    "id": "AOFUBs6CsVe4",
    "outputId": "3dc1378e-4e67-4a11-8ee7-191683404ba6"
   },
   "outputs": [
    {
     "name": "stdout",
     "output_type": "stream",
     "text": [
      "Drive already mounted at /content/gdrive; to attempt to forcibly remount, call drive.mount(\"/content/gdrive\", force_remount=True).\n"
     ]
    }
   ],
   "source": [
    "# Mount Google Drive \n",
    "from google.colab import drive\n",
    "drive.mount('/content/gdrive')"
   ]
  },
  {
   "cell_type": "code",
   "execution_count": 286,
   "metadata": {
    "executionInfo": {
     "elapsed": 460,
     "status": "ok",
     "timestamp": 1648287347432,
     "user": {
      "displayName": "Abdullah Habib Biswas",
      "photoUrl": "https://lh3.googleusercontent.com/a/default-user=s64",
      "userId": "05383448059742338245"
     },
     "user_tz": -330
    },
    "id": "bs85qQBfsEZX"
   },
   "outputs": [],
   "source": [
    "# Initialize variables \n",
    "device = torch.device(\"cuda\" if torch.cuda.is_available() else \"cpu\")\n",
    "batch_size = 164\n",
    "IMAGE_SHAPE = (224, 224)\n",
    "data_dir = \"/content/gdrive/My Drive/Data/flower_photos\"\n",
    "num_classes = 5\n"
   ]
  },
  {
   "cell_type": "code",
   "execution_count": 287,
   "metadata": {
    "executionInfo": {
     "elapsed": 455,
     "status": "ok",
     "timestamp": 1648287351579,
     "user": {
      "displayName": "Abdullah Habib Biswas",
      "photoUrl": "https://lh3.googleusercontent.com/a/default-user=s64",
      "userId": "05383448059742338245"
     },
     "user_tz": -330
    },
    "id": "Za5t6_HSskH5"
   },
   "outputs": [],
   "source": [
    "# Load dataset and pre-process them\n",
    "roses = glob.glob(data_dir+'/roses/**/*.jpg', recursive=True)\n",
    "daisy = glob.glob(data_dir+'/daisy/**/*.jpg', recursive=True)\n",
    "tulips = glob.glob(data_dir+'/tulips/**/*.jpg', recursive=True)\n",
    "dandelion = glob.glob(data_dir+'/dandelion/**/*.jpg', recursive=True)\n",
    "sunflowers = glob.glob(data_dir+'/sunflowers/**/*.jpg', recursive=True)"
   ]
  },
  {
   "cell_type": "code",
   "execution_count": 288,
   "metadata": {
    "executionInfo": {
     "elapsed": 31017,
     "status": "ok",
     "timestamp": 1648287385499,
     "user": {
      "displayName": "Abdullah Habib Biswas",
      "photoUrl": "https://lh3.googleusercontent.com/a/default-user=s64",
      "userId": "05383448059742338245"
     },
     "user_tz": -330
    },
    "id": "VTpihw8Psquv"
   },
   "outputs": [],
   "source": [
    "img_labels = [\"roses\", \"daisy\", \"tulips\", \"dandelion\", \"sunflowers\"]\n",
    "\n",
    "X, y = [], []\n",
    "for label, name in enumerate(img_labels):\n",
    "    exec(\"img_list = %s\" % (name))\n",
    "    for img in img_list:\n",
    "        img = cv2.imread(img)\n",
    "        resized_img = cv2.resize(img, IMAGE_SHAPE) \n",
    "        X.append(resized_img)\n",
    "        y.append(label)\n",
    "    \n",
    "X = np.array(X, dtype=np.float32)\n",
    "y = np.array(y)\n"
   ]
  },
  {
   "cell_type": "code",
   "execution_count": 289,
   "metadata": {
    "executionInfo": {
     "elapsed": 916,
     "status": "ok",
     "timestamp": 1648287393154,
     "user": {
      "displayName": "Abdullah Habib Biswas",
      "photoUrl": "https://lh3.googleusercontent.com/a/default-user=s64",
      "userId": "05383448059742338245"
     },
     "user_tz": -330
    },
    "id": "Z3rRxkRCsvmT"
   },
   "outputs": [],
   "source": [
    "# Normalize image pixel values 0 to 1\n",
    "X = X/255"
   ]
  },
  {
   "cell_type": "code",
   "execution_count": 290,
   "metadata": {
    "executionInfo": {
     "elapsed": 1644,
     "status": "ok",
     "timestamp": 1648287397040,
     "user": {
      "displayName": "Abdullah Habib Biswas",
      "photoUrl": "https://lh3.googleusercontent.com/a/default-user=s64",
      "userId": "05383448059742338245"
     },
     "user_tz": -330
    },
    "id": "xeMllQe4s2lq"
   },
   "outputs": [],
   "source": [
    "# Split data into train and test sets\n",
    "X_train, X_test, y_train, y_test = train_test_split(X, y, stratify=y, test_size=0.1)\n",
    "# Split again into train and validation sets\n",
    "X_train, X_val, y_train, y_val = train_test_split(X_train, y_train, test_size=0.111111)\n"
   ]
  },
  {
   "cell_type": "code",
   "execution_count": 291,
   "metadata": {
    "executionInfo": {
     "elapsed": 442,
     "status": "ok",
     "timestamp": 1648287401780,
     "user": {
      "displayName": "Abdullah Habib Biswas",
      "photoUrl": "https://lh3.googleusercontent.com/a/default-user=s64",
      "userId": "05383448059742338245"
     },
     "user_tz": -330
    },
    "id": "7Xr2M5YYs3lX"
   },
   "outputs": [],
   "source": [
    "# Convert dataset from numpy to pytorch tensor\n",
    "X_train = torch.from_numpy(X_train)\n",
    "X_test = torch.from_numpy(X_test)\n",
    "X_val = torch.from_numpy(X_val)\n",
    "y_train = torch.from_numpy(y_train)\n",
    "y_test = torch.from_numpy(y_test)\n",
    "y_val = torch.from_numpy(y_val)\n",
    "\n",
    "X_train = X_train.to(device)\n",
    "X_test = X_test.to(device)\n",
    "X_val = X_val.to(device)\n",
    "y_train = y_train.to(device, dtype=torch.long)\n",
    "y_test = y_test.to(device, dtype=torch.long)\n",
    "y_val = y_val.to(device, dtype=torch.long)\n",
    "\n",
    "X_train = torch.transpose(X_train, 1, 3)\n",
    "X_test = torch.transpose(X_test, 1, 3)\n",
    "X_val = torch.transpose(X_val, 1, 3)"
   ]
  },
  {
   "cell_type": "code",
   "execution_count": 292,
   "metadata": {
    "executionInfo": {
     "elapsed": 737,
     "status": "ok",
     "timestamp": 1648287406077,
     "user": {
      "displayName": "Abdullah Habib Biswas",
      "photoUrl": "https://lh3.googleusercontent.com/a/default-user=s64",
      "userId": "05383448059742338245"
     },
     "user_tz": -330
    },
    "id": "UbF3jEdps7EP"
   },
   "outputs": [],
   "source": [
    "# Create DataLoaders\n",
    "train_data = TensorDataset(X_train, y_train)\n",
    "test_data = TensorDataset(X_test, y_test)\n",
    "val_data = TensorDataset(X_val, y_val)\n",
    "\n",
    "train_loader = DataLoader(train_data, batch_size=batch_size, shuffle=True)\n",
    "test_loader = DataLoader(test_data, batch_size=batch_size)\n",
    "val_loader = DataLoader(val_data, batch_size=batch_size)"
   ]
  },
  {
   "cell_type": "code",
   "execution_count": 293,
   "metadata": {
    "colab": {
     "base_uri": "https://localhost:8080/"
    },
    "executionInfo": {
     "elapsed": 1115,
     "status": "ok",
     "timestamp": 1648287409749,
     "user": {
      "displayName": "Abdullah Habib Biswas",
      "photoUrl": "https://lh3.googleusercontent.com/a/default-user=s64",
      "userId": "05383448059742338245"
     },
     "user_tz": -330
    },
    "id": "S3qSF_WFs-1I",
    "outputId": "25422f2e-db0f-436f-d31c-ee62f98e962b"
   },
   "outputs": [
    {
     "name": "stdout",
     "output_type": "stream",
     "text": [
      "AlexNet(\n",
      "  (features): Sequential(\n",
      "    (0): Conv2d(3, 64, kernel_size=(11, 11), stride=(4, 4), padding=(2, 2))\n",
      "    (1): ReLU(inplace=True)\n",
      "    (2): MaxPool2d(kernel_size=3, stride=2, padding=0, dilation=1, ceil_mode=False)\n",
      "    (3): Conv2d(64, 192, kernel_size=(5, 5), stride=(1, 1), padding=(2, 2))\n",
      "    (4): ReLU(inplace=True)\n",
      "    (5): MaxPool2d(kernel_size=3, stride=2, padding=0, dilation=1, ceil_mode=False)\n",
      "    (6): Conv2d(192, 384, kernel_size=(3, 3), stride=(1, 1), padding=(1, 1))\n",
      "    (7): ReLU(inplace=True)\n",
      "    (8): Conv2d(384, 256, kernel_size=(3, 3), stride=(1, 1), padding=(1, 1))\n",
      "    (9): ReLU(inplace=True)\n",
      "    (10): Conv2d(256, 256, kernel_size=(3, 3), stride=(1, 1), padding=(1, 1))\n",
      "    (11): ReLU(inplace=True)\n",
      "    (12): MaxPool2d(kernel_size=3, stride=2, padding=0, dilation=1, ceil_mode=False)\n",
      "  )\n",
      "  (avgpool): AdaptiveAvgPool2d(output_size=(6, 6))\n",
      "  (classifier): Sequential(\n",
      "    (0): Dropout(p=0.5, inplace=False)\n",
      "    (1): Linear(in_features=9216, out_features=4096, bias=True)\n",
      "    (2): ReLU(inplace=True)\n",
      "    (3): Dropout(p=0.5, inplace=False)\n",
      "    (4): Linear(in_features=4096, out_features=4096, bias=True)\n",
      "    (5): ReLU(inplace=True)\n",
      "    (6): Linear(in_features=4096, out_features=5, bias=True)\n",
      "    (7): LogSoftmax(dim=1)\n",
      "  )\n",
      ")\n"
     ]
    }
   ],
   "source": [
    "# Load pretrained AlexNet and modify last layer\n",
    "alexnet = models.alexnet(pretrained=True)\n",
    "\n",
    "# Freeze model parameters\n",
    "for param in alexnet.parameters():\n",
    "    param.requires_grad = False\n",
    "\n",
    "# Add final layer as per num_classes\n",
    "alexnet.classifier[6] = nn.Linear(4096, num_classes)\n",
    "alexnet.classifier.add_module(\"7\", nn.LogSoftmax(dim = 1))\n",
    "\n",
    "alexnet = alexnet.to(device)\n",
    "# print alexnet\n",
    "print(alexnet)\n",
    "\n",
    "# Loss function and optimizer\n",
    "criterion  = nn.NLLLoss()\n",
    "optimizer = optim.Adam(alexnet.parameters())"
   ]
  },
  {
   "cell_type": "code",
   "execution_count": 294,
   "metadata": {
    "executionInfo": {
     "elapsed": 442,
     "status": "ok",
     "timestamp": 1648287414353,
     "user": {
      "displayName": "Abdullah Habib Biswas",
      "photoUrl": "https://lh3.googleusercontent.com/a/default-user=s64",
      "userId": "05383448059742338245"
     },
     "user_tz": -330
    },
    "id": "xMKrMdOhtFRJ"
   },
   "outputs": [],
   "source": [
    "# Define model training function\n",
    "def train(model, criterion, optimizer, epochs):  \n",
    "    history = []\n",
    "    train_size = len(y_train)\n",
    "    val_size = len(y_val)\n",
    "    for epoch in range(epochs):\n",
    "        # Training\n",
    "        total_train_loss = 0\n",
    "        total_train_correct = 0\n",
    "        for images, labels in train_loader: \n",
    "            # To fix a memory allocation issue\n",
    "            gc.collect()\n",
    "        \n",
    "            # Forward pass\n",
    "            optimizer.zero_grad()\n",
    "            outputs = model(images)\n",
    "        \n",
    "            # Compute loss\n",
    "            loss = criterion(outputs, labels)\n",
    "            total_train_loss += loss\n",
    "            \n",
    "            # Calculate total correct classification\n",
    "            y_predicted = torch.argmax(outputs, axis=1)\n",
    "            total_train_correct += ((y_predicted == labels).sum())\n",
    "            \n",
    "            # Backward pass\n",
    "            loss.backward()\n",
    "            optimizer.step()\n",
    "            \n",
    "        # Compute accuracy\n",
    "        train_acc = 100*((total_train_correct/train_size).item())\n",
    "        # Compute average loss\n",
    "        train_loss = total_train_loss/train_size\n",
    "        \n",
    "        # Validation\n",
    "        with torch.no_grad():\n",
    "            total_val_loss = 0\n",
    "            total_val_correct = 0\n",
    "            for images, labels in val_loader:\n",
    "                # To fix a memory allocation issue\n",
    "                gc.collect()\n",
    "                \n",
    "                # Predict\n",
    "                outputs = model(images)\n",
    "        \n",
    "                # Compute loss\n",
    "                loss = criterion(outputs, labels)\n",
    "                total_val_loss += loss\n",
    "            \n",
    "                # Calculate total correct classification\n",
    "                y_predicted = torch.argmax(outputs, axis=1)\n",
    "                total_val_correct += ((y_predicted == labels).sum())\n",
    "                \n",
    "            # Compute accuracy\n",
    "            val_acc = 100*((total_val_correct/val_size).item())\n",
    "            # Compute average loss\n",
    "            val_loss = total_val_loss/val_size\n",
    "        \n",
    "        # For each epoch update history\n",
    "        history.append([train_loss, val_loss, train_acc, val_acc])\n",
    "        if epoch % 1 == 0:\n",
    "            print(f\"Epoch {epoch+1}: Training Accuracy = {train_acc:.3f}%  Training Loss = {train_loss:.5f}\")\n",
    "            print(f\"\\t\\t Validation Accuracy = {val_acc:.3f}%  Validation Loss = {val_loss:.5f}\")\n",
    "\n",
    "    return model, history\n"
   ]
  },
  {
   "cell_type": "code",
   "execution_count": 295,
   "metadata": {
    "colab": {
     "base_uri": "https://localhost:8080/"
    },
    "executionInfo": {
     "elapsed": 23970,
     "status": "ok",
     "timestamp": 1648287443512,
     "user": {
      "displayName": "Abdullah Habib Biswas",
      "photoUrl": "https://lh3.googleusercontent.com/a/default-user=s64",
      "userId": "05383448059742338245"
     },
     "user_tz": -330
    },
    "id": "vyewyRhhtKYG",
    "outputId": "a552e661-b64b-4d16-d7a2-5f9081b4d8b3"
   },
   "outputs": [
    {
     "name": "stdout",
     "output_type": "stream",
     "text": [
      "Epoch 1: Training Accuracy = 63.076%  Training Loss = 0.00589\n",
      "\t\t Validation Accuracy = 74.255%  Validation Loss = 0.00513\n",
      "Epoch 2: Training Accuracy = 78.252%  Training Loss = 0.00372\n",
      "\t\t Validation Accuracy = 77.236%  Validation Loss = 0.00475\n",
      "Epoch 3: Training Accuracy = 80.522%  Training Loss = 0.00326\n",
      "\t\t Validation Accuracy = 81.030%  Validation Loss = 0.00454\n",
      "Epoch 4: Training Accuracy = 82.927%  Training Loss = 0.00297\n",
      "\t\t Validation Accuracy = 80.217%  Validation Loss = 0.00471\n",
      "Epoch 5: Training Accuracy = 83.232%  Training Loss = 0.00277\n",
      "\t\t Validation Accuracy = 78.049%  Validation Loss = 0.00459\n",
      "Epoch 6: Training Accuracy = 83.570%  Training Loss = 0.00260\n",
      "\t\t Validation Accuracy = 81.301%  Validation Loss = 0.00447\n",
      "Epoch 7: Training Accuracy = 84.587%  Training Loss = 0.00256\n",
      "\t\t Validation Accuracy = 82.385%  Validation Loss = 0.00428\n",
      "Epoch 8: Training Accuracy = 85.603%  Training Loss = 0.00242\n",
      "\t\t Validation Accuracy = 81.030%  Validation Loss = 0.00446\n",
      "Epoch 9: Training Accuracy = 85.400%  Training Loss = 0.00240\n",
      "\t\t Validation Accuracy = 79.675%  Validation Loss = 0.00409\n",
      "Epoch 10: Training Accuracy = 86.619%  Training Loss = 0.00230\n",
      "\t\t Validation Accuracy = 80.488%  Validation Loss = 0.00438\n"
     ]
    }
   ],
   "source": [
    "# Start training\n",
    "num_epochs = 10\n",
    "model, history = train(alexnet, criterion, optimizer, num_epochs)   "
   ]
  },
  {
   "cell_type": "code",
   "execution_count": 296,
   "metadata": {
    "colab": {
     "base_uri": "https://localhost:8080/",
     "height": 280
    },
    "executionInfo": {
     "elapsed": 1246,
     "status": "ok",
     "timestamp": 1648287449306,
     "user": {
      "displayName": "Abdullah Habib Biswas",
      "photoUrl": "https://lh3.googleusercontent.com/a/default-user=s64",
      "userId": "05383448059742338245"
     },
     "user_tz": -330
    },
    "id": "VoZXGV3QtPvI",
    "outputId": "64bb701d-049d-4a0e-8445-68c334840b25"
   },
   "outputs": [
    {
     "data": {
      "image/png": "[encoded data removed]",
      "text/plain": [
       "<Figure size 432x288 with 1 Axes>"
      ]
     },
     "metadata": {
      "needs_background": "light"
     },
     "output_type": "display_data"
    }
   ],
   "source": [
    "# Plot training and validation loss\n",
    "new_history = torch.tensor(history, device = 'cpu')\n",
    "plt.plot(new_history[:, 0:2])\n",
    "plt.legend([\"Training\", \"Validation\"])\n",
    "plt.xlabel(\"Epochs\")\n",
    "plt.ylabel(\"Loss\")\n",
    "plt.show()"
   ]
  },
  {
   "cell_type": "code",
   "execution_count": 297,
   "metadata": {
    "colab": {
     "base_uri": "https://localhost:8080/"
    },
    "executionInfo": {
     "elapsed": 1714,
     "status": "ok",
     "timestamp": 1648287514811,
     "user": {
      "displayName": "Abdullah Habib Biswas",
      "photoUrl": "https://lh3.googleusercontent.com/a/default-user=s64",
      "userId": "05383448059742338245"
     },
     "user_tz": -330
    },
    "id": "B9G3q1a3tSjw",
    "outputId": "94bf4818-4e6b-4845-e6f2-01e1f561f937"
   },
   "outputs": [
    {
     "name": "stdout",
     "output_type": "stream",
     "text": [
      "\n",
      "The final model accuracy on the test data = 80.270%\n"
     ]
    }
   ],
   "source": [
    "# Finally predict on the test images\n",
    "outputs = model(X_test)\n",
    "y_predicted = torch.argmax(outputs, axis=1)\n",
    "acc = 100 * ((((y_predicted == y_test).sum())/len(y_test)).item())\n",
    "\n",
    "print(f\"\\nThe final model accuracy on the test data = {acc:.3f}%\")\n"
   ]
  }
 ],
 "metadata": {
  "accelerator": "GPU",
  "colab": {
   "authorship_tag": "ABX9TyOtvlokZ9TUCoq031BMyOxk",
   "collapsed_sections": [],
   "name": "TransferLearning_AlexNet.ipynb",
   "provenance": []
  },
  "kernelspec": {
   "display_name": "Python 3",
   "language": "python",
   "name": "python3"
  },
  "language_info": {
   "codemirror_mode": {
    "name": "ipython",
    "version": 3
   },
   "file_extension": ".py",
   "mimetype": "text/x-python",
   "name": "python",
   "nbconvert_exporter": "python",
   "pygments_lexer": "ipython3",
   "version": "3.8.5"
  }
 },
 "nbformat": 4,
 "nbformat_minor": 1
}
